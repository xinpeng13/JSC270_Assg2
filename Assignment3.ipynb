{
  "nbformat": 4,
  "nbformat_minor": 0,
  "metadata": {
    "colab": {
      "name": "Assignment3.ipynb",
      "provenance": [],
      "collapsed_sections": [],
      "authorship_tag": "ABX9TyNYyTRNWQMJoVehxCr4cbR0",
      "include_colab_link": true
    },
    "kernelspec": {
      "name": "python3",
      "display_name": "Python 3"
    }
  },
  "cells": [
    {
      "cell_type": "markdown",
      "metadata": {
        "id": "view-in-github",
        "colab_type": "text"
      },
      "source": [
        "<a href=\"https://colab.research.google.com/github/xinpeng13/JSC270_Assg2/blob/shanxinp/Assignment3.ipynb\" target=\"_parent\"><img src=\"https://colab.research.google.com/assets/colab-badge.svg\" alt=\"Open In Colab\"/></a>"
      ]
    },
    {
      "cell_type": "code",
      "metadata": {
        "id": "Ornj-Oj2MvxN"
      },
      "source": [
        "import numpy as np\n",
        "from scipy.stats import beta\n",
        "from scipy.stats import expon\n",
        "import matplotlib.pyplot as plt\n",
        "import seaborn as sns"
      ],
      "execution_count": null,
      "outputs": []
    },
    {
      "cell_type": "markdown",
      "metadata": {
        "id": "onnHj2GuNu4d"
      },
      "source": [
        "1 D)"
      ]
    },
    {
      "cell_type": "code",
      "metadata": {
        "colab": {
          "base_uri": "https://localhost:8080/",
          "height": 282
        },
        "id": "0gt3c4h4M1q-",
        "outputId": "84c78ced-bb8d-47f5-b188-9ab31d571de6"
      },
      "source": [
        "np.random.seed(13)\n",
        "\n",
        "def dist():\n",
        "  x = np.random.beta(5,17) \n",
        "  return x\n",
        "\n",
        "def prior_dist():\n",
        "  x = np.random.beta(1,1) \n",
        "  return x\n",
        "\n",
        "\n",
        "prior_sample = [prior_dist() for i in range(1000)]\n",
        "posterior_sample = [dist() for i in range(1000)]\n",
        "\n",
        "plt.hist(prior_sample, alpha=0.5, label = \"prior\")\n",
        "plt.hist(posterior_sample, alpha=0.5, label = \"posterior\")\n",
        "plt.legend(loc='upper right')\n",
        "plt.show()\n",
        "\n",
        "prior_mean = np.mean(prior_sample)\n",
        "posterior_mean = np.mean(posterior_sample)\n",
        "\n",
        "print(\"The prior mean is {}, the posterior mean is {}, the traditional likelihood estimate is 0.2\".format(prior_mean, posterior_mean))"
      ],
      "execution_count": null,
      "outputs": [
        {
          "output_type": "display_data",
          "data": {
            "image/png": "[encoded data removed]",
            "text/plain": [
              "<Figure size 432x288 with 1 Axes>"
            ]
          },
          "metadata": {
            "tags": [],
            "needs_background": "light"
          }
        },
        {
          "output_type": "stream",
          "text": [
            "The prior mean is 0.48605135187538634, the posterior mean is 0.23255267924420372, the traditional likelihood estimate is 0.2\n"
          ],
          "name": "stdout"
        }
      ]
    },
    {
      "cell_type": "markdown",
      "metadata": {
        "id": "UgEl9JRfBuow"
      },
      "source": [
        "1 E)"
      ]
    },
    {
      "cell_type": "code",
      "metadata": {
        "colab": {
          "base_uri": "https://localhost:8080/",
          "height": 282
        },
        "id": "4He1EJ3LzORC",
        "outputId": "5f67f0bd-a8b6-469f-90f5-b8c39179b09a"
      },
      "source": [
        "np.random.seed(13)\n",
        "\n",
        "def dist():\n",
        "  x = np.random.beta(5,19) \n",
        "  return x\n",
        "\n",
        "def prior_dist():\n",
        "  x = np.random.beta(1,3) \n",
        "  return x\n",
        "\n",
        "\n",
        "prior_sample = [prior_dist() for i in range(1000)]\n",
        "posterior_sample = [dist() for i in range(1000)]\n",
        "\n",
        "plt.hist(prior_sample, alpha=0.5, label = \"prior\")\n",
        "plt.hist(posterior_sample, alpha=0.5, label = \"posterior\")\n",
        "plt.legend(loc='upper right')\n",
        "plt.show()\n",
        "\n",
        "prior_mean = np.mean(prior_sample)\n",
        "posterior_mean = np.mean(posterior_sample)\n",
        "\n",
        "print(\"The prior mean is {}, the posterior mean is {}, the traditional likelihood estimate is 0.2\".format(prior_mean, posterior_mean))"
      ],
      "execution_count": null,
      "outputs": [
        {
          "output_type": "display_data",
          "data": {
            "image/png": "[encoded data removed]",
            "text/plain": [
              "<Figure size 432x288 with 1 Axes>"
            ]
          },
          "metadata": {
            "tags": [],
            "needs_background": "light"
          }
        },
        {
          "output_type": "stream",
          "text": [
            "The prior mean is 0.24431529556297713, the posterior mean is 0.21364858173324835, the traditional likelihood estimate is 0.2\n"
          ],
          "name": "stdout"
        }
      ]
    },
    {
      "cell_type": "markdown",
      "metadata": {
        "id": "O0qs0dQrBxOo"
      },
      "source": [
        "1 F)"
      ]
    },
    {
      "cell_type": "code",
      "metadata": {
        "colab": {
          "base_uri": "https://localhost:8080/",
          "height": 282
        },
        "id": "8sXQMT9U12ey",
        "outputId": "85475bf5-6d58-459b-dfec-d1a9ced87809"
      },
      "source": [
        "np.random.seed(13)\n",
        "\n",
        "def dist():\n",
        "  x = np.random.beta(13,11) \n",
        "  return x\n",
        "\n",
        "def prior_dist():\n",
        "  x = np.random.beta(1,3) \n",
        "  return x\n",
        "\n",
        "\n",
        "prior_sample = [prior_dist() for i in range(1000)]\n",
        "posterior_sample = [dist() for i in range(1000)]\n",
        "\n",
        "plt.hist(prior_sample, alpha=0.5, label = \"prior\")\n",
        "plt.hist(posterior_sample, alpha=0.5, label = \"posterior\")\n",
        "plt.legend(loc='upper right')\n",
        "plt.show()\n",
        "\n",
        "prior_mean = np.mean(prior_sample)\n",
        "posterior_mean = np.mean(posterior_sample)\n",
        "\n",
        "print(\"The prior mean is {}, the posterior mean is {}, the traditional likelihood estimate is 0.6\".format(prior_mean, posterior_mean))"
      ],
      "execution_count": null,
      "outputs": [
        {
          "output_type": "display_data",
          "data": {
            "image/png": "[encoded data removed]",
            "text/plain": [
              "<Figure size 432x288 with 1 Axes>"
            ]
          },
          "metadata": {
            "tags": [],
            "needs_background": "light"
          }
        },
        {
          "output_type": "stream",
          "text": [
            "The prior mean is 0.24431529556297713, the posterior mean is 0.5382011666861066, the traditional likelihood estimate is 0.2\n"
          ],
          "name": "stdout"
        }
      ]
    },
    {
      "cell_type": "markdown",
      "metadata": {
        "id": "Af1EkfL-B0aG"
      },
      "source": [
        "2 B)"
      ]
    },
    {
      "cell_type": "code",
      "metadata": {
        "colab": {
          "base_uri": "https://localhost:8080/",
          "height": 764
        },
        "id": "qiezc-zgB3Kk",
        "outputId": "1e4628b9-7abc-4d10-8dd6-9ac8214325d6"
      },
      "source": [
        "np.random.seed(13)\n",
        "\n",
        "def dist():\n",
        "  x = np.random.exponential(0.5) \n",
        "  return x\n",
        "\n",
        "def sample(n):\n",
        "  x = [dist() for i in range(n)]\n",
        "  return x\n",
        "\n",
        "sample_10 = sample(10)\n",
        "sample_20 = sample(20)\n",
        "sample_50 = sample(50)\n",
        "sample_100 = sample(100)\n",
        "sample_500 = sample(500)\n",
        "sample_2000 = sample(2000)\n",
        "\n",
        "fig, (plt1, plt2) = plt.subplots(1, 2)\n",
        "plt1.hist(sample_10, alpha=0.5, label = \"Size 10\")\n",
        "plt1.legend(loc='upper right')\n",
        "plt2.hist(sample_20, alpha=0.5, label = \"Size 20\")\n",
        "plt2.legend(loc='upper right')\n",
        "fig, (plt3, plt4) = plt.subplots(1, 2)\n",
        "plt3.hist(sample_50, alpha=0.5, label = \"Size 50\")\n",
        "plt3.legend(loc='upper right')\n",
        "plt4.hist(sample_100, alpha=0.5, label = \"Size 100\")\n",
        "plt4.legend(loc='upper right')\n",
        "fig, (plt5, plt6) = plt.subplots(1, 2)\n",
        "plt5.hist(sample_500, alpha=0.5, label = \"Size 500\")\n",
        "plt5.legend(loc='upper right')\n",
        "plt6.hist(sample_2000, alpha=0.5, label = \"Size 2000\")\n",
        "plt6.legend(loc='upper right')\n",
        "plt.show()"
      ],
      "execution_count": null,
      "outputs": [
        {
          "output_type": "display_data",
          "data": {
            "image/png": "[encoded data removed]",
            "text/plain": [
              "<Figure size 432x288 with 2 Axes>"
            ]
          },
          "metadata": {
            "tags": [],
            "needs_background": "light"
          }
        },
        {
          "output_type": "display_data",
          "data": {
            "image/png": "[encoded data removed]",
            "text/plain": [
              "<Figure size 432x288 with 2 Axes>"
            ]
          },
          "metadata": {
            "tags": [],
            "needs_background": "light"
          }
        },
        {
          "output_type": "display_data",
          "data": {
            "image/png": "[encoded data removed]",
            "text/plain": [
              "<Figure size 432x288 with 2 Axes>"
            ]
          },
          "metadata": {
            "tags": [],
            "needs_background": "light"
          }
        }
      ]
    },
    {
      "cell_type": "markdown",
      "metadata": {
        "id": "78Fg0w_2FifO"
      },
      "source": [
        "2 C)"
      ]
    },
    {
      "cell_type": "code",
      "metadata": {
        "colab": {
          "base_uri": "https://localhost:8080/",
          "height": 282
        },
        "id": "r4aDdwZ1FkIq",
        "outputId": "627b67a2-8561-49b0-8244-c29485f99056"
      },
      "source": [
        "list_y = [np.mean(sample_10), np.mean(sample_20), np.mean(sample_50), np.mean(sample_100), np.mean(sample_500), np.mean(sample_2000)]\n",
        "list_x = ['size 10',  'size 20', 'size 50', 'size 100', 'size 500', 'size 2000']\n",
        "plt.bar(list_x, list_y)\n",
        "plt.axhline(0.5)"
      ],
      "execution_count": null,
      "outputs": [
        {
          "output_type": "execute_result",
          "data": {
            "text/plain": [
              "<matplotlib.lines.Line2D at 0x7f82a4235048>"
            ]
          },
          "metadata": {
            "tags": []
          },
          "execution_count": 43
        },
        {
          "output_type": "display_data",
          "data": {
            "image/png": "[encoded data removed]",
            "text/plain": [
              "<Figure size 432x288 with 1 Axes>"
            ]
          },
          "metadata": {
            "tags": [],
            "needs_background": "light"
          }
        }
      ]
    },
    {
      "cell_type": "markdown",
      "metadata": {
        "id": "W9WjT7AjJmZk"
      },
      "source": [
        "3 A）"
      ]
    },
    {
      "cell_type": "code",
      "metadata": {
        "id": "t4y5KfXvPh8L"
      },
      "source": [
        "np.random.seed(15)\n",
        "def simulate_data(n):\n",
        "  x1_sample = [np.random.uniform(-100, 100) for i in range(n)]\n",
        "  x2_sample = [np.random.uniform(-150, 150) for i in range(n)]\n",
        "  di_sample = [np.random.choice([0, 1, 2, 3, 4,])for i in range(n)]\n",
        "  eps_sample = [np.random.normal(0, 4)for i in range(n)]\n",
        "  \n",
        "  x1_sample = np.reshape(x1_sample,newshape=(n,1))\n",
        "  x2_sample = np.reshape(x2_sample,newshape=(n,1))\n",
        "  di_sample = np.reshape(di_sample,newshape=(n,1))\n",
        "  eps_sample = np.reshape(eps_sample,newshape=(n,1))\n",
        "  \n",
        "  # Generate response (including error)\n",
        "  t = 5+0.6*x1_sample + 0.8*x2_sample + 0.4* di_sample+ eps_sample\n",
        "  pi = np.exp(t)/(np.exp(t)+1)\n",
        "  y = (pi > 0.5).astype(float)\n",
        "\n",
        "  # Add leading column of ones for intercept\n",
        "  lead_ones = np.ones((n,1))\n",
        "  \n",
        "  X = np.concatenate([lead_ones,x1_sample, x2_sample, di_sample],axis=1) \n",
        "\n",
        "  return X,y\n",
        "\n",
        "simulate = simulate_data(1000)"
      ],
      "execution_count": null,
      "outputs": []
    },
    {
      "cell_type": "markdown",
      "metadata": {
        "id": "wKwLTTsvSGP0"
      },
      "source": [
        "3 B)"
      ]
    },
    {
      "cell_type": "code",
      "metadata": {
        "colab": {
          "base_uri": "https://localhost:8080/",
          "height": 366
        },
        "id": "atSoRveiJvhw",
        "outputId": "621fec1e-fa5b-468b-8114-444396426e9d"
      },
      "source": [
        "from sklearn.model_selection import train_test_split\n",
        "from sklearn.linear_model import LogisticRegression\n",
        "from sklearn.metrics import *\n",
        "np.random.seed(15)\n",
        "# Split data into train and test sets using 80/20 split\n",
        "\n",
        "X_train, X_test, y_train, y_test = train_test_split(simulate[0], simulate[1], test_size = 0.2, shuffle=True, random_state=10)\n",
        "\n",
        "log = LogisticRegression(fit_intercept = True, max_iter=1000, penalty= 'none')\n",
        "\n",
        "# Fit the model to the data\n",
        "log.fit(X_train, y_train)\n",
        "\n",
        "\n",
        "# Get fitted values from training set\n",
        "y_train_preds = log.predict(X_train)\n",
        "\n",
        "# Get fitted values from test set\n",
        "y_test_preds = log.predict(X_test)\n",
        "\n",
        "# We need only give each of these metrics our true labels and predicted values\n",
        "\n",
        "# Precision(TP/TP + FP)\n",
        "train_prec= precision_score(y_train, y_train_preds)\n",
        "test_prec = precision_score(y_test, y_test_preds)\n",
        "\n",
        "print(train_prec, test_prec)\n",
        "\n",
        "# Recall(TP/TP + FN)\n",
        "train_rec = recall_score(y_train, y_train_preds)\n",
        "test_rec= recall_score(y_test, y_test_preds)\n",
        "\n",
        "# F1 Score[2*(Precision*Recall)/(Precision + Recall)]\n",
        "train_f1= f1_score(y_train, y_train_preds)\n",
        "test_f1 = f1_score(y_test, y_test_preds)\n",
        "\n",
        "fpr, tpr, thresholds = roc_curve(y_test, y_test_preds, pos_label = 1)\n",
        "\n",
        "plt.plot(fpr,tpr)\n",
        "\n",
        "plt.xlabel('False Positive Rate')\n",
        "plt.ylabel('True Positive Rate')\n",
        "plt.title('ROC Curve')\n",
        "plt.show()\n",
        "\n"
      ],
      "execution_count": null,
      "outputs": [
        {
          "output_type": "stream",
          "text": [
            "0.9857482185273159 0.9811320754716981\n"
          ],
          "name": "stdout"
        },
        {
          "output_type": "stream",
          "text": [
            "/usr/local/lib/python3.7/dist-packages/sklearn/utils/validation.py:760: DataConversionWarning: A column-vector y was passed when a 1d array was expected. Please change the shape of y to (n_samples, ), for example using ravel().\n",
            "  y = column_or_1d(y, warn=True)\n"
          ],
          "name": "stderr"
        },
        {
          "output_type": "display_data",
          "data": {
            "image/png": "[encoded data removed]",
            "text/plain": [
              "<Figure size 432x288 with 1 Axes>"
            ]
          },
          "metadata": {
            "tags": [],
            "needs_background": "light"
          }
        }
      ]
    },
    {
      "cell_type": "markdown",
      "metadata": {
        "id": "O0isn7_uZ_SS"
      },
      "source": [
        "3 C)"
      ]
    },
    {
      "cell_type": "code",
      "metadata": {
        "colab": {
          "base_uri": "https://localhost:8080/"
        },
        "id": "GUiJ3EI8Z9hb",
        "outputId": "385720b1-79c4-441e-f453-ace26a1774ab"
      },
      "source": [
        "from sklearn.tree import DecisionTreeClassifier\n",
        "\n",
        "arr = np.empty(5000)\n",
        "for i in range(5000):\n",
        "  resample_X = np.zeros((1000, 4))\n",
        "  resample_y = np.zeros((1000, 1))\n",
        "  for j in range(len(resample_X)):\n",
        "    num = np.random.choice(len(simulate[0]))\n",
        "    resample_X[j] = simulate[0][num]\n",
        "    resample_y[j] = simulate[1][num]\n",
        "\n",
        "  dt = DecisionTreeClassifier(max_depth= 6, random_state = 15, max_features= 'log2')\n",
        "  dt.fit(resample_X, resample_y)\n",
        "  resample_preds = dt.predict(resample_X)\n",
        "  precision= precision_score(resample_y, resample_preds)\n",
        " #f1 = f1_score(resample_y, resample_preds)\n",
        "  arr[i] = precision\n",
        "\n",
        "\n",
        "arr"
      ],
      "execution_count": null,
      "outputs": [
        {
          "output_type": "execute_result",
          "data": {
            "text/plain": [
              "array([0.98830409, 0.99808061, 0.98550725, ..., 0.98058252, 0.98825832,\n",
              "       0.96174863])"
            ]
          },
          "metadata": {
            "tags": []
          },
          "execution_count": 32
        }
      ]
    },
    {
      "cell_type": "markdown",
      "metadata": {
        "id": "Ew8SUcupjbPU"
      },
      "source": [
        "3 D)"
      ]
    },
    {
      "cell_type": "code",
      "metadata": {
        "colab": {
          "base_uri": "https://localhost:8080/",
          "height": 367
        },
        "id": "pLe0xAaCjau1",
        "outputId": "ddc61564-98c1-421a-fe6e-e15da92e36aa"
      },
      "source": [
        "plt.hist(x = arr, alpha=0.5)"
      ],
      "execution_count": null,
      "outputs": [
        {
          "output_type": "execute_result",
          "data": {
            "text/plain": [
              "(array([2.000e+00, 3.000e+00, 1.400e+01, 1.600e+01, 4.400e+01, 6.900e+01,\n",
              "        1.100e+02, 2.840e+02, 1.041e+03, 3.417e+03]),\n",
              " array([0.85853659, 0.87268293, 0.88682927, 0.90097561, 0.91512195,\n",
              "        0.92926829, 0.94341463, 0.95756098, 0.97170732, 0.98585366,\n",
              "        1.        ]),\n",
              " <a list of 10 Patch objects>)"
            ]
          },
          "metadata": {
            "tags": []
          },
          "execution_count": 33
        },
        {
          "output_type": "display_data",
          "data": {
            "image/png": "[encoded data removed]",
            "text/plain": [
              "<Figure size 432x288 with 1 Axes>"
            ]
          },
          "metadata": {
            "tags": [],
            "needs_background": "light"
          }
        }
      ]
    },
    {
      "cell_type": "markdown",
      "metadata": {
        "id": "zqBuHZCXpaQE"
      },
      "source": [
        "3 F)"
      ]
    },
    {
      "cell_type": "code",
      "metadata": {
        "colab": {
          "base_uri": "https://localhost:8080/"
        },
        "id": "qGwQEKmYpZq-",
        "outputId": "dfe9a013-b83c-43a6-8bf6-1baab8aab475"
      },
      "source": [
        "dt_mean = arr.mean()\n",
        "\n",
        "print(\"the precision of test set in part A is {}, for training set is {}, the mean of precision in part D is {}\".format(test_prec,train_prec, dt_mean))"
      ],
      "execution_count": null,
      "outputs": [
        {
          "output_type": "stream",
          "text": [
            "the precision of test set in part A is 0.9811320754716981, for training set is 0.9857482185273159, the mean of precision in part D is 0.9865938421909175\n"
          ],
          "name": "stdout"
        }
      ]
    }
  ]
}